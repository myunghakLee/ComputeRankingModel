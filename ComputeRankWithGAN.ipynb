{
 "cells": [
  {
   "cell_type": "code",
   "execution_count": 1,
   "id": "little-decision",
   "metadata": {
    "ExecuteTime": {
     "end_time": "2021-02-04T09:27:26.995153Z",
     "start_time": "2021-02-04T09:27:26.131365Z"
    }
   },
   "outputs": [],
   "source": [
    "import torch\n",
    "import torch.nn as nn\n",
    "from tqdm import tqdm\n",
    "import torch.optim as optim\n",
    "from torch.utils.data import Dataset, DataLoader"
   ]
  },
  {
   "cell_type": "code",
   "execution_count": 2,
   "id": "shaped-gauge",
   "metadata": {
    "ExecuteTime": {
     "end_time": "2021-02-04T09:27:27.009754Z",
     "start_time": "2021-02-04T09:27:26.997520Z"
    }
   },
   "outputs": [],
   "source": [
    "\n",
    "class TestDataset(Dataset):\n",
    "    def __init__(self, data_nums = 100000):\n",
    "        self.dataset = []\n",
    "        for i in range(data_nums):\n",
    "            data = {}\n",
    "            data[\"output\"] = torch.randint(0,2,(1,))\n",
    "            data[\"input\"] = torch.randn(2,10)\n",
    "            if data[\"output\"] == 1:\n",
    "                rand_idx = torch.randperm(10)\n",
    "                data[\"input\"],_ = torch.sort(data[\"input\"])\n",
    "                data[\"input\"][0] = torch.tensor([data[\"input\"][0][idx] for idx in rand_idx])\n",
    "                data[\"input\"][1] = torch.tensor([data[\"input\"][1][idx] for idx in rand_idx])\n",
    "            data[\"output\"] = data[\"output\"].float()\n",
    "            self.dataset.append(data)\n",
    "    def __len__(self):\n",
    "        return len(self.dataset)\n",
    "    def __getitem__(self, idx):\n",
    "        return self.dataset[idx]"
   ]
  },
  {
   "cell_type": "code",
   "execution_count": 3,
   "id": "modern-rings",
   "metadata": {
    "ExecuteTime": {
     "end_time": "2021-02-04T09:27:27.024582Z",
     "start_time": "2021-02-04T09:27:27.013542Z"
    }
   },
   "outputs": [],
   "source": [
    "class Model(nn.Module):\n",
    "    def __init__(self, input_length = 10, output_length = 10):\n",
    "        super(Model, self).__init__()\n",
    "\n",
    "        self.seq = nn.Sequential(\n",
    "            nn.Conv1d(2,4,kernel_size=3,padding=1),\n",
    "            nn.Conv1d(4,8,kernel_size=3,padding=1),\n",
    "            nn.Tanh(),\n",
    "            nn.Conv1d(8,16,kernel_size=3,padding=1),\n",
    "            nn.Conv1d(16,32,kernel_size=3,padding=1),\n",
    "            nn.Tanh(),\n",
    "            nn.Conv1d(32,16,kernel_size=3,padding=1),\n",
    "            nn.Conv1d(16,8,kernel_size=3,padding=1),\n",
    "            nn.Tanh(),\n",
    "            nn.Conv1d(8,4,kernel_size=3,padding=1),\n",
    "            nn.Conv1d(4,2,kernel_size=3,padding=1),\n",
    "            nn.Tanh(),\n",
    "            nn.Conv1d(2,1,kernel_size=3,padding=1),\n",
    "            nn.Conv1d(1,1,kernel_size=3,padding=1),\n",
    "            nn.Tanh(),\n",
    "            nn.Linear(10,1),\n",
    "            nn.Softmax(dim=0)\n",
    "        )\n",
    "#         self.Conv2d = nn.Conv2d(1,1,kernel_size=3,padding=1)\n",
    "    def forward(self, data):\n",
    "        out = self.seq(data)\n",
    "        return out\n",
    "        "
   ]
  },
  {
   "cell_type": "code",
   "execution_count": 4,
   "id": "searching-cologne",
   "metadata": {
    "ExecuteTime": {
     "end_time": "2021-02-04T09:27:33.473040Z",
     "start_time": "2021-02-04T09:27:27.026905Z"
    }
   },
   "outputs": [],
   "source": [
    "dataset = TestDataset(data_nums = 40960)\n",
    "model = Model()"
   ]
  },
  {
   "cell_type": "code",
   "execution_count": 5,
   "id": "noted-chase",
   "metadata": {
    "ExecuteTime": {
     "end_time": "2021-02-04T09:27:37.155538Z",
     "start_time": "2021-02-04T09:27:33.476271Z"
    }
   },
   "outputs": [
    {
     "data": {
      "text/plain": [
       "Model(\n",
       "  (seq): Sequential(\n",
       "    (0): Conv1d(2, 4, kernel_size=(3,), stride=(1,), padding=(1,))\n",
       "    (1): Conv1d(4, 8, kernel_size=(3,), stride=(1,), padding=(1,))\n",
       "    (2): Tanh()\n",
       "    (3): Conv1d(8, 16, kernel_size=(3,), stride=(1,), padding=(1,))\n",
       "    (4): Conv1d(16, 32, kernel_size=(3,), stride=(1,), padding=(1,))\n",
       "    (5): Tanh()\n",
       "    (6): Conv1d(32, 16, kernel_size=(3,), stride=(1,), padding=(1,))\n",
       "    (7): Conv1d(16, 8, kernel_size=(3,), stride=(1,), padding=(1,))\n",
       "    (8): Tanh()\n",
       "    (9): Conv1d(8, 4, kernel_size=(3,), stride=(1,), padding=(1,))\n",
       "    (10): Conv1d(4, 2, kernel_size=(3,), stride=(1,), padding=(1,))\n",
       "    (11): Tanh()\n",
       "    (12): Conv1d(2, 1, kernel_size=(3,), stride=(1,), padding=(1,))\n",
       "    (13): Conv1d(1, 1, kernel_size=(3,), stride=(1,), padding=(1,))\n",
       "    (14): Tanh()\n",
       "    (15): Linear(in_features=10, out_features=1, bias=True)\n",
       "    (16): Softmax(dim=0)\n",
       "  )\n",
       ")"
      ]
     },
     "execution_count": 5,
     "metadata": {},
     "output_type": "execute_result"
    }
   ],
   "source": [
    "device = torch.device(\"cuda:0\" if torch.cuda.is_available() else \"cpu\")\n",
    "optimizer = optim.Adam(model.parameters(), lr=0.0001)\n",
    "MSE = nn.MSELoss()\n",
    "BCE = nn.BCELoss()\n",
    "\n",
    "CS = nn.CosineSimilarity(dim = 2)\n",
    "\n",
    "data_loader = torch.utils.data.DataLoader(dataset, batch_size = 1024, shuffle = False)\n",
    "model.to(device)\n"
   ]
  },
  {
   "cell_type": "code",
   "execution_count": 6,
   "id": "auburn-vietnam",
   "metadata": {
    "ExecuteTime": {
     "end_time": "2021-02-04T09:41:25.836551Z",
     "start_time": "2021-02-04T09:27:37.160268Z"
    },
    "scrolled": true
   },
   "outputs": [
    {
     "name": "stdout",
     "output_type": "stream",
     "text": [
      "3.1650609493255617\n",
      "0.00032 0.0\n",
      "0.00194 1.0\n",
      "0.00183 1.0\n",
      "0.00178 1.0\n",
      "================================================================================\n",
      "3.1356741786003113\n",
      "0.00017 0.0\n",
      "0.002 1.0\n",
      "0.00188 1.0\n",
      "0.00185 1.0\n",
      "================================================================================\n",
      "3.124483662843704\n",
      "0.0001 0.0\n",
      "0.00206 1.0\n",
      "0.00189 1.0\n",
      "0.00185 1.0\n",
      "================================================================================\n",
      "3.11893550157547\n",
      "7e-05 0.0\n",
      "0.00206 1.0\n",
      "0.00187 1.0\n",
      "0.00183 1.0\n",
      "================================================================================\n",
      "3.115245932340622\n",
      "5e-05 0.0\n",
      "0.00206 1.0\n",
      "0.00183 1.0\n",
      "0.00182 1.0\n",
      "================================================================================\n",
      "3.1124206483364105\n",
      "4e-05 0.0\n",
      "0.00205 1.0\n",
      "0.0018 1.0\n",
      "0.0018 1.0\n",
      "================================================================================\n",
      "3.1107671439647673\n",
      "4e-05 0.0\n",
      "0.00206 1.0\n",
      "0.00177 1.0\n",
      "0.00177 1.0\n",
      "================================================================================\n",
      "3.109400045871735\n",
      "3e-05 0.0\n",
      "0.00206 1.0\n",
      "0.00176 1.0\n",
      "0.00174 1.0\n",
      "================================================================================\n",
      "3.1083071708679197\n",
      "3e-05 0.0\n",
      "0.00206 1.0\n",
      "0.00175 1.0\n",
      "0.00171 1.0\n",
      "================================================================================\n",
      "3.1074218094348907\n",
      "3e-05 0.0\n",
      "0.00206 1.0\n",
      "0.00174 1.0\n",
      "0.00167 1.0\n",
      "================================================================================\n",
      "CHANGE_MODEL!!!!!!\n",
      "7.606624376773834\n",
      "0.26882 0.0\n",
      "1.67745 1.0\n",
      "3.717 1.0\n",
      "0.12918 1.0\n",
      "================================================================================\n",
      "3.6262928545475006\n",
      "0.28791 0.0\n",
      "-0.25909 1.0\n",
      "1.92754 1.0\n",
      "2.43058 1.0\n",
      "================================================================================\n",
      "1.264677394926548\n",
      "0.62408 0.0\n",
      "-0.4053 1.0\n",
      "1.21483 1.0\n",
      "1.77952 1.0\n",
      "================================================================================\n",
      "0.40134411342442033\n",
      "0.58252 0.0\n",
      "0.09458 1.0\n",
      "0.84571 1.0\n",
      "1.12628 1.0\n",
      "================================================================================\n",
      "0.21645426675677298\n",
      "0.56138 0.0\n",
      "0.33111 1.0\n",
      "0.7464 1.0\n",
      "0.91029 1.0\n",
      "================================================================================\n",
      "0.18714730963110923\n",
      "0.53244 0.0\n",
      "0.39849 1.0\n",
      "0.72762 1.0\n",
      "0.85988 1.0\n",
      "================================================================================\n",
      "0.17472517900168896\n",
      "0.50555 0.0\n",
      "0.43545 1.0\n",
      "0.72994 1.0\n",
      "0.84683 1.0\n",
      "================================================================================\n",
      "0.10857137106359005\n",
      "0.34984 0.0\n",
      "0.6307 1.0\n",
      "0.80121 1.0\n",
      "0.8213 1.0\n",
      "================================================================================\n",
      "0.07047965005040169\n",
      "0.27539 0.0\n",
      "0.7943 1.0\n",
      "0.81344 1.0\n",
      "0.76278 1.0\n",
      "================================================================================\n",
      "0.04842826062813401\n",
      "0.2317 0.0\n",
      "0.88707 1.0\n",
      "0.83084 1.0\n",
      "0.73036 1.0\n",
      "================================================================================\n",
      "0.04161518067121506\n",
      "0.27943 0.0\n",
      "0.93383 1.0\n",
      "0.85096 1.0\n",
      "0.74123 1.0\n",
      "================================================================================\n",
      "0.03752994434908032\n",
      "0.28178 0.0\n",
      "0.95938 1.0\n",
      "0.86899 1.0\n",
      "0.75636 1.0\n",
      "================================================================================\n",
      "0.03367905486375093\n",
      "0.28064 0.0\n",
      "0.98459 1.0\n",
      "0.88816 1.0\n",
      "0.76343 1.0\n",
      "================================================================================\n",
      "0.028584160888567568\n",
      "0.34624 0.0\n",
      "1.01114 1.0\n",
      "0.9239 1.0\n",
      "0.78972 1.0\n",
      "================================================================================\n",
      "0.024890794465318323\n",
      "0.35825 0.0\n",
      "1.0422 1.0\n",
      "0.95611 1.0\n",
      "0.83731 1.0\n",
      "================================================================================\n",
      "0.023595466511324048\n",
      "0.32861 0.0\n",
      "1.05541 1.0\n",
      "0.9634 1.0\n",
      "0.86206 1.0\n",
      "================================================================================\n",
      "0.022594732185825705\n",
      "0.29179 0.0\n",
      "1.05732 1.0\n",
      "0.96362 1.0\n",
      "0.87344 1.0\n",
      "================================================================================\n",
      "0.021528184553608297\n",
      "0.25083 0.0\n",
      "1.0551 1.0\n",
      "0.96177 1.0\n",
      "0.88056 1.0\n",
      "================================================================================\n",
      "0.02025487523060292\n",
      "0.20819 0.0\n",
      "1.04898 1.0\n",
      "0.96011 1.0\n",
      "0.88671 1.0\n",
      "================================================================================\n",
      "0.018829119484871627\n",
      "0.16141 0.0\n",
      "1.03958 1.0\n",
      "0.95724 1.0\n",
      "0.8929 1.0\n",
      "================================================================================\n",
      "0.017566373199224473\n",
      "0.10793 0.0\n",
      "1.03103 1.0\n",
      "0.95315 1.0\n",
      "0.90333 1.0\n",
      "================================================================================\n",
      "0.016687645902857186\n",
      "0.06868 0.0\n",
      "1.02507 1.0\n",
      "0.95045 1.0\n",
      "0.91461 1.0\n",
      "================================================================================\n",
      "0.016076192166656254\n",
      "0.05369 0.0\n",
      "1.0203 1.0\n",
      "0.94937 1.0\n",
      "0.9217 1.0\n",
      "================================================================================\n",
      "0.015643486892804502\n",
      "0.04919 0.0\n",
      "1.0164 1.0\n",
      "0.94861 1.0\n",
      "0.92434 1.0\n",
      "================================================================================\n",
      "0.015310336812399327\n",
      "0.04797 0.0\n",
      "1.01389 1.0\n",
      "0.94823 1.0\n",
      "0.92435 1.0\n",
      "================================================================================\n",
      "0.015038805385120212\n",
      "0.04917 0.0\n",
      "1.01212 1.0\n",
      "0.9478 1.0\n",
      "0.92325 1.0\n",
      "================================================================================\n",
      "0.014811240183189512\n",
      "0.05229 0.0\n",
      "1.01092 1.0\n",
      "0.94737 1.0\n",
      "0.92199 1.0\n",
      "================================================================================\n",
      "0.014616515161469579\n",
      "0.05672 0.0\n",
      "1.01023 1.0\n",
      "0.94717 1.0\n",
      "0.9211 1.0\n",
      "================================================================================\n",
      "0.014446413575205952\n",
      "0.06186 0.0\n",
      "1.00985 1.0\n",
      "0.94727 1.0\n",
      "0.92077 1.0\n",
      "================================================================================\n",
      "0.014294684573542327\n",
      "0.06713 0.0\n",
      "1.00957 1.0\n",
      "0.94761 1.0\n",
      "0.92097 1.0\n",
      "================================================================================\n",
      "0.014156726421788335\n",
      "0.07205 0.0\n",
      "1.00927 1.0\n",
      "0.94813 1.0\n",
      "0.92157 1.0\n",
      "================================================================================\n",
      "0.014029316068626941\n",
      "0.0763 0.0\n",
      "1.00889 1.0\n",
      "0.94874 1.0\n",
      "0.92242 1.0\n",
      "================================================================================\n",
      "0.013910139922518282\n",
      "0.07973 0.0\n",
      "1.00846 1.0\n",
      "0.94944 1.0\n",
      "0.92345 1.0\n",
      "================================================================================\n",
      "0.01379745095036924\n",
      "0.08231 0.0\n",
      "1.00797 1.0\n",
      "0.9502 1.0\n",
      "0.92459 1.0\n",
      "================================================================================\n",
      "0.013689826359041035\n",
      "0.08415 0.0\n",
      "1.00745 1.0\n",
      "0.95103 1.0\n",
      "0.92581 1.0\n",
      "================================================================================\n",
      "0.013586109282914548\n",
      "0.08537 0.0\n",
      "1.00691 1.0\n",
      "0.95193 1.0\n",
      "0.92711 1.0\n",
      "================================================================================\n",
      "0.013485384674277156\n",
      "0.08612 0.0\n",
      "1.00636 1.0\n",
      "0.95289 1.0\n",
      "0.92846 1.0\n",
      "================================================================================\n",
      "0.013386944413650782\n",
      "0.0865 0.0\n",
      "1.00581 1.0\n",
      "0.9539 1.0\n",
      "0.92988 1.0\n",
      "================================================================================\n",
      "0.01329020777484402\n",
      "0.08661 0.0\n",
      "1.00527 1.0\n",
      "0.95497 1.0\n",
      "0.93136 1.0\n",
      "================================================================================\n",
      "0.013194724475033582\n",
      "0.08646 0.0\n",
      "1.00476 1.0\n",
      "0.95608 1.0\n",
      "0.93291 1.0\n",
      "================================================================================\n",
      "0.013100084045436233\n",
      "0.08608 0.0\n",
      "1.00427 1.0\n",
      "0.95722 1.0\n",
      "0.9345 1.0\n",
      "================================================================================\n",
      "0.013005918904673308\n",
      "0.08545 0.0\n",
      "1.00381 1.0\n",
      "0.95837 1.0\n",
      "0.93615 1.0\n",
      "================================================================================\n",
      "0.012911864032503217\n",
      "0.08458 0.0\n",
      "1.00339 1.0\n",
      "0.95953 1.0\n",
      "0.93784 1.0\n",
      "================================================================================\n",
      "0.012817573081701995\n",
      "0.08348 0.0\n",
      "1.003 1.0\n",
      "0.96069 1.0\n",
      "0.93955 1.0\n",
      "================================================================================\n",
      "0.012722652486991138\n",
      "0.08218 0.0\n",
      "1.00264 1.0\n",
      "0.96183 1.0\n",
      "0.94126 1.0\n",
      "================================================================================\n",
      "0.012626720615662635\n",
      "0.08072 0.0\n",
      "1.00231 1.0\n",
      "0.96296 1.0\n",
      "0.94295 1.0\n",
      "================================================================================\n"
     ]
    },
    {
     "name": "stdout",
     "output_type": "stream",
     "text": [
      "0.012529416289180518\n",
      "0.07913 0.0\n",
      "1.00199 1.0\n",
      "0.96406 1.0\n",
      "0.94461 1.0\n",
      "================================================================================\n",
      "0.012430433998815715\n",
      "0.07745 0.0\n",
      "1.00168 1.0\n",
      "0.96514 1.0\n",
      "0.94621 1.0\n",
      "================================================================================\n",
      "0.012329554953612386\n",
      "0.07569 0.0\n",
      "1.00138 1.0\n",
      "0.9662 1.0\n",
      "0.94773 1.0\n",
      "================================================================================\n",
      "0.012226657499559224\n",
      "0.07384 0.0\n",
      "1.0011 1.0\n",
      "0.96723 1.0\n",
      "0.94916 1.0\n",
      "================================================================================\n",
      "0.012121643882710486\n",
      "0.07192 0.0\n",
      "1.00086 1.0\n",
      "0.96824 1.0\n",
      "0.95048 1.0\n",
      "================================================================================\n",
      "0.012014321400783956\n",
      "0.06993 0.0\n",
      "1.00067 1.0\n",
      "0.96925 1.0\n",
      "0.95167 1.0\n",
      "================================================================================\n",
      "0.011904280760791152\n",
      "0.06791 0.0\n",
      "1.00058 1.0\n",
      "0.97026 1.0\n",
      "0.95271 1.0\n",
      "================================================================================\n",
      "0.011790773458778858\n",
      "0.06589 0.0\n",
      "1.00058 1.0\n",
      "0.97129 1.0\n",
      "0.95357 1.0\n",
      "================================================================================\n"
     ]
    },
    {
     "ename": "KeyboardInterrupt",
     "evalue": "",
     "output_type": "error",
     "traceback": [
      "\u001b[0;31m---------------------------------------------------------------------------\u001b[0m",
      "\u001b[0;31mKeyboardInterrupt\u001b[0m                         Traceback (most recent call last)",
      "\u001b[0;32m<ipython-input-6-50cd671bb8d2>\u001b[0m in \u001b[0;36m<module>\u001b[0;34m\u001b[0m\n\u001b[1;32m     13\u001b[0m \u001b[0;32mfor\u001b[0m \u001b[0mepoch\u001b[0m \u001b[0;32min\u001b[0m \u001b[0mrange\u001b[0m\u001b[0;34m(\u001b[0m\u001b[0;36m50000\u001b[0m\u001b[0;34m)\u001b[0m\u001b[0;34m:\u001b[0m\u001b[0;34m\u001b[0m\u001b[0;34m\u001b[0m\u001b[0m\n\u001b[1;32m     14\u001b[0m     \u001b[0mloss_mean\u001b[0m \u001b[0;34m=\u001b[0m \u001b[0;34m[\u001b[0m\u001b[0;34m]\u001b[0m\u001b[0;34m\u001b[0m\u001b[0;34m\u001b[0m\u001b[0m\n\u001b[0;32m---> 15\u001b[0;31m     \u001b[0;32mfor\u001b[0m \u001b[0mi\u001b[0m\u001b[0;34m,\u001b[0m \u001b[0mbatch\u001b[0m \u001b[0;32min\u001b[0m \u001b[0;34m(\u001b[0m\u001b[0menumerate\u001b[0m\u001b[0;34m(\u001b[0m\u001b[0mdata_loader\u001b[0m\u001b[0;34m)\u001b[0m\u001b[0;34m)\u001b[0m\u001b[0;34m:\u001b[0m\u001b[0;34m\u001b[0m\u001b[0;34m\u001b[0m\u001b[0m\n\u001b[0m\u001b[1;32m     16\u001b[0m         \u001b[0minput_data\u001b[0m\u001b[0;34m,\u001b[0m \u001b[0mGT\u001b[0m \u001b[0;34m=\u001b[0m \u001b[0;34m(\u001b[0m\u001b[0mbatch\u001b[0m\u001b[0;34m[\u001b[0m\u001b[0;34m\"input\"\u001b[0m\u001b[0;34m]\u001b[0m\u001b[0;34m.\u001b[0m\u001b[0mto\u001b[0m\u001b[0;34m(\u001b[0m\u001b[0mdevice\u001b[0m\u001b[0;34m)\u001b[0m\u001b[0;34m,\u001b[0m \u001b[0mbatch\u001b[0m\u001b[0;34m[\u001b[0m\u001b[0;34m\"output\"\u001b[0m\u001b[0;34m]\u001b[0m\u001b[0;34m.\u001b[0m\u001b[0mto\u001b[0m\u001b[0;34m(\u001b[0m\u001b[0mdevice\u001b[0m\u001b[0;34m)\u001b[0m\u001b[0;34m)\u001b[0m\u001b[0;34m\u001b[0m\u001b[0;34m\u001b[0m\u001b[0m\n\u001b[1;32m     17\u001b[0m         \u001b[0mGT\u001b[0m \u001b[0;34m=\u001b[0m \u001b[0mGT\u001b[0m\u001b[0;34m.\u001b[0m\u001b[0munsqueeze\u001b[0m\u001b[0;34m(\u001b[0m\u001b[0;36m1\u001b[0m\u001b[0;34m)\u001b[0m\u001b[0;34m\u001b[0m\u001b[0;34m\u001b[0m\u001b[0m\n",
      "\u001b[0;32m/usr/local/lib/python3.6/dist-packages/torch/utils/data/dataloader.py\u001b[0m in \u001b[0;36m__next__\u001b[0;34m(self)\u001b[0m\n\u001b[1;32m    343\u001b[0m \u001b[0;34m\u001b[0m\u001b[0m\n\u001b[1;32m    344\u001b[0m     \u001b[0;32mdef\u001b[0m \u001b[0m__next__\u001b[0m\u001b[0;34m(\u001b[0m\u001b[0mself\u001b[0m\u001b[0;34m)\u001b[0m\u001b[0;34m:\u001b[0m\u001b[0;34m\u001b[0m\u001b[0;34m\u001b[0m\u001b[0m\n\u001b[0;32m--> 345\u001b[0;31m         \u001b[0mdata\u001b[0m \u001b[0;34m=\u001b[0m \u001b[0mself\u001b[0m\u001b[0;34m.\u001b[0m\u001b[0m_next_data\u001b[0m\u001b[0;34m(\u001b[0m\u001b[0;34m)\u001b[0m\u001b[0;34m\u001b[0m\u001b[0;34m\u001b[0m\u001b[0m\n\u001b[0m\u001b[1;32m    346\u001b[0m         \u001b[0mself\u001b[0m\u001b[0;34m.\u001b[0m\u001b[0m_num_yielded\u001b[0m \u001b[0;34m+=\u001b[0m \u001b[0;36m1\u001b[0m\u001b[0;34m\u001b[0m\u001b[0;34m\u001b[0m\u001b[0m\n\u001b[1;32m    347\u001b[0m         \u001b[0;32mif\u001b[0m \u001b[0mself\u001b[0m\u001b[0;34m.\u001b[0m\u001b[0m_dataset_kind\u001b[0m \u001b[0;34m==\u001b[0m \u001b[0m_DatasetKind\u001b[0m\u001b[0;34m.\u001b[0m\u001b[0mIterable\u001b[0m \u001b[0;32mand\u001b[0m\u001b[0;31m \u001b[0m\u001b[0;31m\\\u001b[0m\u001b[0;34m\u001b[0m\u001b[0;34m\u001b[0m\u001b[0m\n",
      "\u001b[0;32m/usr/local/lib/python3.6/dist-packages/torch/utils/data/dataloader.py\u001b[0m in \u001b[0;36m_next_data\u001b[0;34m(self)\u001b[0m\n\u001b[1;32m    383\u001b[0m     \u001b[0;32mdef\u001b[0m \u001b[0m_next_data\u001b[0m\u001b[0;34m(\u001b[0m\u001b[0mself\u001b[0m\u001b[0;34m)\u001b[0m\u001b[0;34m:\u001b[0m\u001b[0;34m\u001b[0m\u001b[0;34m\u001b[0m\u001b[0m\n\u001b[1;32m    384\u001b[0m         \u001b[0mindex\u001b[0m \u001b[0;34m=\u001b[0m \u001b[0mself\u001b[0m\u001b[0;34m.\u001b[0m\u001b[0m_next_index\u001b[0m\u001b[0;34m(\u001b[0m\u001b[0;34m)\u001b[0m  \u001b[0;31m# may raise StopIteration\u001b[0m\u001b[0;34m\u001b[0m\u001b[0;34m\u001b[0m\u001b[0m\n\u001b[0;32m--> 385\u001b[0;31m         \u001b[0mdata\u001b[0m \u001b[0;34m=\u001b[0m \u001b[0mself\u001b[0m\u001b[0;34m.\u001b[0m\u001b[0m_dataset_fetcher\u001b[0m\u001b[0;34m.\u001b[0m\u001b[0mfetch\u001b[0m\u001b[0;34m(\u001b[0m\u001b[0mindex\u001b[0m\u001b[0;34m)\u001b[0m  \u001b[0;31m# may raise StopIteration\u001b[0m\u001b[0;34m\u001b[0m\u001b[0;34m\u001b[0m\u001b[0m\n\u001b[0m\u001b[1;32m    386\u001b[0m         \u001b[0;32mif\u001b[0m \u001b[0mself\u001b[0m\u001b[0;34m.\u001b[0m\u001b[0m_pin_memory\u001b[0m\u001b[0;34m:\u001b[0m\u001b[0;34m\u001b[0m\u001b[0;34m\u001b[0m\u001b[0m\n\u001b[1;32m    387\u001b[0m             \u001b[0mdata\u001b[0m \u001b[0;34m=\u001b[0m \u001b[0m_utils\u001b[0m\u001b[0;34m.\u001b[0m\u001b[0mpin_memory\u001b[0m\u001b[0;34m.\u001b[0m\u001b[0mpin_memory\u001b[0m\u001b[0;34m(\u001b[0m\u001b[0mdata\u001b[0m\u001b[0;34m)\u001b[0m\u001b[0;34m\u001b[0m\u001b[0;34m\u001b[0m\u001b[0m\n",
      "\u001b[0;32m/usr/local/lib/python3.6/dist-packages/torch/utils/data/_utils/fetch.py\u001b[0m in \u001b[0;36mfetch\u001b[0;34m(self, possibly_batched_index)\u001b[0m\n\u001b[1;32m     45\u001b[0m         \u001b[0;32melse\u001b[0m\u001b[0;34m:\u001b[0m\u001b[0;34m\u001b[0m\u001b[0;34m\u001b[0m\u001b[0m\n\u001b[1;32m     46\u001b[0m             \u001b[0mdata\u001b[0m \u001b[0;34m=\u001b[0m \u001b[0mself\u001b[0m\u001b[0;34m.\u001b[0m\u001b[0mdataset\u001b[0m\u001b[0;34m[\u001b[0m\u001b[0mpossibly_batched_index\u001b[0m\u001b[0;34m]\u001b[0m\u001b[0;34m\u001b[0m\u001b[0;34m\u001b[0m\u001b[0m\n\u001b[0;32m---> 47\u001b[0;31m         \u001b[0;32mreturn\u001b[0m \u001b[0mself\u001b[0m\u001b[0;34m.\u001b[0m\u001b[0mcollate_fn\u001b[0m\u001b[0;34m(\u001b[0m\u001b[0mdata\u001b[0m\u001b[0;34m)\u001b[0m\u001b[0;34m\u001b[0m\u001b[0;34m\u001b[0m\u001b[0m\n\u001b[0m",
      "\u001b[0;32m/usr/local/lib/python3.6/dist-packages/torch/utils/data/_utils/collate.py\u001b[0m in \u001b[0;36mdefault_collate\u001b[0;34m(batch)\u001b[0m\n\u001b[1;32m     72\u001b[0m         \u001b[0;32mreturn\u001b[0m \u001b[0mbatch\u001b[0m\u001b[0;34m\u001b[0m\u001b[0;34m\u001b[0m\u001b[0m\n\u001b[1;32m     73\u001b[0m     \u001b[0;32melif\u001b[0m \u001b[0misinstance\u001b[0m\u001b[0;34m(\u001b[0m\u001b[0melem\u001b[0m\u001b[0;34m,\u001b[0m \u001b[0mcontainer_abcs\u001b[0m\u001b[0;34m.\u001b[0m\u001b[0mMapping\u001b[0m\u001b[0;34m)\u001b[0m\u001b[0;34m:\u001b[0m\u001b[0;34m\u001b[0m\u001b[0;34m\u001b[0m\u001b[0m\n\u001b[0;32m---> 74\u001b[0;31m         \u001b[0;32mreturn\u001b[0m \u001b[0;34m{\u001b[0m\u001b[0mkey\u001b[0m\u001b[0;34m:\u001b[0m \u001b[0mdefault_collate\u001b[0m\u001b[0;34m(\u001b[0m\u001b[0;34m[\u001b[0m\u001b[0md\u001b[0m\u001b[0;34m[\u001b[0m\u001b[0mkey\u001b[0m\u001b[0;34m]\u001b[0m \u001b[0;32mfor\u001b[0m \u001b[0md\u001b[0m \u001b[0;32min\u001b[0m \u001b[0mbatch\u001b[0m\u001b[0;34m]\u001b[0m\u001b[0;34m)\u001b[0m \u001b[0;32mfor\u001b[0m \u001b[0mkey\u001b[0m \u001b[0;32min\u001b[0m \u001b[0melem\u001b[0m\u001b[0;34m}\u001b[0m\u001b[0;34m\u001b[0m\u001b[0;34m\u001b[0m\u001b[0m\n\u001b[0m\u001b[1;32m     75\u001b[0m     \u001b[0;32melif\u001b[0m \u001b[0misinstance\u001b[0m\u001b[0;34m(\u001b[0m\u001b[0melem\u001b[0m\u001b[0;34m,\u001b[0m \u001b[0mtuple\u001b[0m\u001b[0;34m)\u001b[0m \u001b[0;32mand\u001b[0m \u001b[0mhasattr\u001b[0m\u001b[0;34m(\u001b[0m\u001b[0melem\u001b[0m\u001b[0;34m,\u001b[0m \u001b[0;34m'_fields'\u001b[0m\u001b[0;34m)\u001b[0m\u001b[0;34m:\u001b[0m  \u001b[0;31m# namedtuple\u001b[0m\u001b[0;34m\u001b[0m\u001b[0;34m\u001b[0m\u001b[0m\n\u001b[1;32m     76\u001b[0m         \u001b[0;32mreturn\u001b[0m \u001b[0melem_type\u001b[0m\u001b[0;34m(\u001b[0m\u001b[0;34m*\u001b[0m\u001b[0;34m(\u001b[0m\u001b[0mdefault_collate\u001b[0m\u001b[0;34m(\u001b[0m\u001b[0msamples\u001b[0m\u001b[0;34m)\u001b[0m \u001b[0;32mfor\u001b[0m \u001b[0msamples\u001b[0m \u001b[0;32min\u001b[0m \u001b[0mzip\u001b[0m\u001b[0;34m(\u001b[0m\u001b[0;34m*\u001b[0m\u001b[0mbatch\u001b[0m\u001b[0;34m)\u001b[0m\u001b[0;34m)\u001b[0m\u001b[0;34m)\u001b[0m\u001b[0;34m\u001b[0m\u001b[0;34m\u001b[0m\u001b[0m\n",
      "\u001b[0;32m/usr/local/lib/python3.6/dist-packages/torch/utils/data/_utils/collate.py\u001b[0m in \u001b[0;36m<dictcomp>\u001b[0;34m(.0)\u001b[0m\n\u001b[1;32m     72\u001b[0m         \u001b[0;32mreturn\u001b[0m \u001b[0mbatch\u001b[0m\u001b[0;34m\u001b[0m\u001b[0;34m\u001b[0m\u001b[0m\n\u001b[1;32m     73\u001b[0m     \u001b[0;32melif\u001b[0m \u001b[0misinstance\u001b[0m\u001b[0;34m(\u001b[0m\u001b[0melem\u001b[0m\u001b[0;34m,\u001b[0m \u001b[0mcontainer_abcs\u001b[0m\u001b[0;34m.\u001b[0m\u001b[0mMapping\u001b[0m\u001b[0;34m)\u001b[0m\u001b[0;34m:\u001b[0m\u001b[0;34m\u001b[0m\u001b[0;34m\u001b[0m\u001b[0m\n\u001b[0;32m---> 74\u001b[0;31m         \u001b[0;32mreturn\u001b[0m \u001b[0;34m{\u001b[0m\u001b[0mkey\u001b[0m\u001b[0;34m:\u001b[0m \u001b[0mdefault_collate\u001b[0m\u001b[0;34m(\u001b[0m\u001b[0;34m[\u001b[0m\u001b[0md\u001b[0m\u001b[0;34m[\u001b[0m\u001b[0mkey\u001b[0m\u001b[0;34m]\u001b[0m \u001b[0;32mfor\u001b[0m \u001b[0md\u001b[0m \u001b[0;32min\u001b[0m \u001b[0mbatch\u001b[0m\u001b[0;34m]\u001b[0m\u001b[0;34m)\u001b[0m \u001b[0;32mfor\u001b[0m \u001b[0mkey\u001b[0m \u001b[0;32min\u001b[0m \u001b[0melem\u001b[0m\u001b[0;34m}\u001b[0m\u001b[0;34m\u001b[0m\u001b[0;34m\u001b[0m\u001b[0m\n\u001b[0m\u001b[1;32m     75\u001b[0m     \u001b[0;32melif\u001b[0m \u001b[0misinstance\u001b[0m\u001b[0;34m(\u001b[0m\u001b[0melem\u001b[0m\u001b[0;34m,\u001b[0m \u001b[0mtuple\u001b[0m\u001b[0;34m)\u001b[0m \u001b[0;32mand\u001b[0m \u001b[0mhasattr\u001b[0m\u001b[0;34m(\u001b[0m\u001b[0melem\u001b[0m\u001b[0;34m,\u001b[0m \u001b[0;34m'_fields'\u001b[0m\u001b[0;34m)\u001b[0m\u001b[0;34m:\u001b[0m  \u001b[0;31m# namedtuple\u001b[0m\u001b[0;34m\u001b[0m\u001b[0;34m\u001b[0m\u001b[0m\n\u001b[1;32m     76\u001b[0m         \u001b[0;32mreturn\u001b[0m \u001b[0melem_type\u001b[0m\u001b[0;34m(\u001b[0m\u001b[0;34m*\u001b[0m\u001b[0;34m(\u001b[0m\u001b[0mdefault_collate\u001b[0m\u001b[0;34m(\u001b[0m\u001b[0msamples\u001b[0m\u001b[0;34m)\u001b[0m \u001b[0;32mfor\u001b[0m \u001b[0msamples\u001b[0m \u001b[0;32min\u001b[0m \u001b[0mzip\u001b[0m\u001b[0;34m(\u001b[0m\u001b[0;34m*\u001b[0m\u001b[0mbatch\u001b[0m\u001b[0;34m)\u001b[0m\u001b[0;34m)\u001b[0m\u001b[0;34m)\u001b[0m\u001b[0;34m\u001b[0m\u001b[0;34m\u001b[0m\u001b[0m\n",
      "\u001b[0;32m/usr/local/lib/python3.6/dist-packages/torch/utils/data/_utils/collate.py\u001b[0m in \u001b[0;36mdefault_collate\u001b[0;34m(batch)\u001b[0m\n\u001b[1;32m     53\u001b[0m             \u001b[0mstorage\u001b[0m \u001b[0;34m=\u001b[0m \u001b[0melem\u001b[0m\u001b[0;34m.\u001b[0m\u001b[0mstorage\u001b[0m\u001b[0;34m(\u001b[0m\u001b[0;34m)\u001b[0m\u001b[0;34m.\u001b[0m\u001b[0m_new_shared\u001b[0m\u001b[0;34m(\u001b[0m\u001b[0mnumel\u001b[0m\u001b[0;34m)\u001b[0m\u001b[0;34m\u001b[0m\u001b[0;34m\u001b[0m\u001b[0m\n\u001b[1;32m     54\u001b[0m             \u001b[0mout\u001b[0m \u001b[0;34m=\u001b[0m \u001b[0melem\u001b[0m\u001b[0;34m.\u001b[0m\u001b[0mnew\u001b[0m\u001b[0;34m(\u001b[0m\u001b[0mstorage\u001b[0m\u001b[0;34m)\u001b[0m\u001b[0;34m\u001b[0m\u001b[0;34m\u001b[0m\u001b[0m\n\u001b[0;32m---> 55\u001b[0;31m         \u001b[0;32mreturn\u001b[0m \u001b[0mtorch\u001b[0m\u001b[0;34m.\u001b[0m\u001b[0mstack\u001b[0m\u001b[0;34m(\u001b[0m\u001b[0mbatch\u001b[0m\u001b[0;34m,\u001b[0m \u001b[0;36m0\u001b[0m\u001b[0;34m,\u001b[0m \u001b[0mout\u001b[0m\u001b[0;34m=\u001b[0m\u001b[0mout\u001b[0m\u001b[0;34m)\u001b[0m\u001b[0;34m\u001b[0m\u001b[0;34m\u001b[0m\u001b[0m\n\u001b[0m\u001b[1;32m     56\u001b[0m     \u001b[0;32melif\u001b[0m \u001b[0melem_type\u001b[0m\u001b[0;34m.\u001b[0m\u001b[0m__module__\u001b[0m \u001b[0;34m==\u001b[0m \u001b[0;34m'numpy'\u001b[0m \u001b[0;32mand\u001b[0m \u001b[0melem_type\u001b[0m\u001b[0;34m.\u001b[0m\u001b[0m__name__\u001b[0m \u001b[0;34m!=\u001b[0m \u001b[0;34m'str_'\u001b[0m\u001b[0;31m \u001b[0m\u001b[0;31m\\\u001b[0m\u001b[0;34m\u001b[0m\u001b[0;34m\u001b[0m\u001b[0m\n\u001b[1;32m     57\u001b[0m             \u001b[0;32mand\u001b[0m \u001b[0melem_type\u001b[0m\u001b[0;34m.\u001b[0m\u001b[0m__name__\u001b[0m \u001b[0;34m!=\u001b[0m \u001b[0;34m'string_'\u001b[0m\u001b[0;34m:\u001b[0m\u001b[0;34m\u001b[0m\u001b[0;34m\u001b[0m\u001b[0m\n",
      "\u001b[0;31mKeyboardInterrupt\u001b[0m: "
     ]
    }
   ],
   "source": [
    "from tqdm import tqdm\n",
    "import numpy as np\n",
    "import copy\n",
    "\n",
    "before_param_data = {}\n",
    "\n",
    "\n",
    "# for name, param in model.named_parameters():\n",
    "#     if param.requires_grad:\n",
    "#         before_param_data[name] = copy.deepcopy(param.data)\n",
    "criterion = BCE\n",
    "\n",
    "for epoch in range(50000):\n",
    "    loss_mean = []\n",
    "    for i, batch in (enumerate(data_loader)):\n",
    "        input_data, GT = (batch[\"input\"].to(device), batch[\"output\"].to(device))\n",
    "        GT = GT.unsqueeze(1)\n",
    "        optimizer.zero_grad()\n",
    "        predictTE = model(input_data)\n",
    "        if batch == 201:\n",
    "            predictTE *=500\n",
    "        elif batch == 202:\n",
    "            predictTE *=400\n",
    "        elif batch == 203:\n",
    "            predictTE *=200\n",
    "        elif batch == 204:\n",
    "            predictTE *=100\n",
    "        elif batch == 205:\n",
    "            predictTE *=50\n",
    "        elif batch == 206:\n",
    "            predictTE *=25\n",
    "        elif batch == 207:\n",
    "            predictTE *=12\n",
    "        \n",
    "        loss = criterion(predictTE, GT)\n",
    "        loss.backward()\n",
    "        optimizer.step()\n",
    "        \n",
    "        loss_mean.append(loss.cpu().item())\n",
    "    if epoch % 20 == 19:\n",
    "        print(np.mean(loss_mean))\n",
    "        print(round(predictTE[0].cpu().item(),5), GT[0].cpu().item())\n",
    "        print(round(predictTE[1].cpu().item(),5), GT[1].cpu().item())\n",
    "        print(round(predictTE[2].cpu().item(),5), GT[2].cpu().item())\n",
    "        print(round(predictTE[3].cpu().item(),5), GT[3].cpu().item())\n",
    "        print(\"=\" * 80)\n",
    "    if epoch == 200:\n",
    "        print(\"CHANGE_MODEL!!!!!!\")\n",
    "        criterion = MSE\n",
    "        model.seq = model.seq[:16]\n",
    "    elif 208>epoch >= 201:\n",
    "        print(np.mean(loss_mean))\n",
    "        print(round(predictTE[0].cpu().item(),5), GT[0].cpu().item())\n",
    "        print(round(predictTE[1].cpu().item(),5), GT[1].cpu().item())\n",
    "        print(round(predictTE[2].cpu().item(),5), GT[2].cpu().item())\n",
    "        print(round(predictTE[3].cpu().item(),5), GT[3].cpu().item())\n",
    "        print(\"=\" * 80)\n",
    "        "
   ]
  },
  {
   "cell_type": "code",
   "execution_count": 7,
   "id": "honey-pencil",
   "metadata": {
    "ExecuteTime": {
     "end_time": "2021-02-04T09:42:26.795712Z",
     "start_time": "2021-02-04T09:42:26.755915Z"
    }
   },
   "outputs": [],
   "source": [
    "torch.save(model.state_dict(), \"CalcRankWithGAN\")\n"
   ]
  },
  {
   "cell_type": "code",
   "execution_count": 10,
   "id": "rotary-sport",
   "metadata": {
    "ExecuteTime": {
     "end_time": "2021-02-04T10:32:06.827655Z",
     "start_time": "2021-02-04T10:32:06.821295Z"
    }
   },
   "outputs": [],
   "source": [
    "link1 = \"C:\\\\GIT_BLOG_IMAGE\\\\\"\n",
    "link2 = \"https://github.com/myunghakLee/GIT_BLOG_IMAGE/blob/master/\"\n"
   ]
  },
  {
   "cell_type": "code",
   "execution_count": 11,
   "id": "incomplete-boston",
   "metadata": {
    "ExecuteTime": {
     "end_time": "2021-02-04T10:32:16.019960Z",
     "start_time": "2021-02-04T10:32:16.011319Z"
    }
   },
   "outputs": [
    {
     "data": {
      "text/plain": [
       "'https://github.com/myunghakLee/GIT_BLOG_IMAGE/blob/master/clip_image002.png)'"
      ]
     },
     "execution_count": 11,
     "metadata": {},
     "output_type": "execute_result"
    }
   ],
   "source": [
    "STR_A = \"C:\\GIT_BLOG_IMAGE\\clip_image002.png)\"\n",
    "STR_A.replace(link1, link2)"
   ]
  },
  {
   "cell_type": "code",
   "execution_count": null,
   "id": "varied-senegal",
   "metadata": {
    "ExecuteTime": {
     "end_time": "2021-02-04T09:41:25.840234Z",
     "start_time": "2021-02-04T09:27:26.089Z"
    }
   },
   "outputs": [],
   "source": [
    "model"
   ]
  },
  {
   "cell_type": "code",
   "execution_count": null,
   "id": "touched-medline",
   "metadata": {
    "ExecuteTime": {
     "end_time": "2021-02-04T09:41:25.841096Z",
     "start_time": "2021-02-04T09:27:26.090Z"
    }
   },
   "outputs": [],
   "source": [
    "softmax = nn.Softmax(dim=0)\n",
    "\n",
    "torch.randn((5,1,1))\n",
    "A = torch.tensor([[[0]], [[1]], [[0]]]).float()\n",
    "softmax(A)\n"
   ]
  },
  {
   "cell_type": "code",
   "execution_count": null,
   "id": "political-tuning",
   "metadata": {
    "ExecuteTime": {
     "end_time": "2021-02-04T09:41:25.842003Z",
     "start_time": "2021-02-04T09:27:26.090Z"
    }
   },
   "outputs": [],
   "source": [
    "A = torch.tensor([[[0],[1],[0]]]).float()\n",
    "B = torch.tensor([[0],[0.005],[0]]).unsqueeze(0).float()\n",
    "BCE(A, B)\n"
   ]
  },
  {
   "cell_type": "code",
   "execution_count": null,
   "id": "quality-system",
   "metadata": {
    "ExecuteTime": {
     "end_time": "2021-02-04T09:41:25.842852Z",
     "start_time": "2021-02-04T09:27:26.091Z"
    }
   },
   "outputs": [],
   "source": [
    "softmax = nn.Softmax(dim=-1)\n",
    "A = torch.tensor([0,0,0,0,0,0,0,0,0]).float()\n",
    "softmax(A)"
   ]
  },
  {
   "cell_type": "code",
   "execution_count": null,
   "id": "native-corps",
   "metadata": {
    "ExecuteTime": {
     "end_time": "2021-02-04T09:41:25.843701Z",
     "start_time": "2021-02-04T09:27:26.091Z"
    }
   },
   "outputs": [],
   "source": [
    "GT"
   ]
  },
  {
   "cell_type": "code",
   "execution_count": null,
   "id": "measured-inventory",
   "metadata": {
    "ExecuteTime": {
     "end_time": "2021-02-04T09:41:25.844668Z",
     "start_time": "2021-02-04T09:27:26.092Z"
    }
   },
   "outputs": [],
   "source": [
    "predictTE"
   ]
  },
  {
   "cell_type": "code",
   "execution_count": null,
   "id": "deadly-lawsuit",
   "metadata": {
    "ExecuteTime": {
     "end_time": "2021-02-04T09:41:25.845659Z",
     "start_time": "2021-02-04T09:27:26.092Z"
    }
   },
   "outputs": [],
   "source": [
    "batch[\"input\"].shape"
   ]
  }
 ],
 "metadata": {
  "kernelspec": {
   "display_name": "Python 3",
   "language": "python",
   "name": "python3"
  },
  "language_info": {
   "codemirror_mode": {
    "name": "ipython",
    "version": 3
   },
   "file_extension": ".py",
   "mimetype": "text/x-python",
   "name": "python",
   "nbconvert_exporter": "python",
   "pygments_lexer": "ipython3",
   "version": "3.6.12"
  },
  "latex_envs": {
   "LaTeX_envs_menu_present": true,
   "autoclose": false,
   "autocomplete": true,
   "bibliofile": "biblio.bib",
   "cite_by": "apalike",
   "current_citInitial": 1,
   "eqLabelWithNumbers": true,
   "eqNumInitial": 1,
   "hotkeys": {
    "equation": "Ctrl-E",
    "itemize": "Ctrl-I"
   },
   "labels_anchors": false,
   "latex_user_defs": false,
   "report_style_numbering": false,
   "user_envs_cfg": false
  }
 },
 "nbformat": 4,
 "nbformat_minor": 5
}
